{
 "cells": [
  {
   "cell_type": "code",
   "execution_count": 13,
   "metadata": {},
   "outputs": [],
   "source": [
    "from newsapi import NewsApiClient"
   ]
  },
  {
   "cell_type": "code",
   "execution_count": 18,
   "metadata": {},
   "outputs": [],
   "source": [
    "import newsapi"
   ]
  },
  {
   "cell_type": "code",
   "execution_count": 25,
   "metadata": {},
   "outputs": [
    {
     "data": {
      "text/plain": [
       "['EVERYTHING_URL',\n",
       " 'SOURCES_URL',\n",
       " 'TOP_HEADLINES_URL',\n",
       " '__builtins__',\n",
       " '__cached__',\n",
       " '__doc__',\n",
       " '__file__',\n",
       " '__loader__',\n",
       " '__name__',\n",
       " '__package__',\n",
       " '__spec__',\n",
       " 'categories',\n",
       " 'countries',\n",
       " 'languages',\n",
       " 'sort_method']"
      ]
     },
     "execution_count": 25,
     "metadata": {},
     "output_type": "execute_result"
    }
   ],
   "source": [
    "dir(newsapi.const)"
   ]
  },
  {
   "cell_type": "code",
   "execution_count": 14,
   "metadata": {},
   "outputs": [],
   "source": [
    "api = NewsApiClient(api_key='2f8ec3ad48b74a7b9231307551e6e2c0')"
   ]
  },
  {
   "cell_type": "code",
   "execution_count": 15,
   "metadata": {},
   "outputs": [
    {
     "ename": "ValueError",
     "evalue": "invalid category",
     "output_type": "error",
     "traceback": [
      "\u001b[0;31m---------------------------------------------------------------------------\u001b[0m",
      "\u001b[0;31mValueError\u001b[0m                                Traceback (most recent call last)",
      "\u001b[0;32m<ipython-input-15-ea5250294cf2>\u001b[0m in \u001b[0;36m<module>\u001b[0;34m\u001b[0m\n\u001b[0;32m----> 1\u001b[0;31m \u001b[0mresults\u001b[0m \u001b[0;34m=\u001b[0m \u001b[0mapi\u001b[0m\u001b[0;34m.\u001b[0m\u001b[0mget_top_headlines\u001b[0m\u001b[0;34m(\u001b[0m\u001b[0mcategory\u001b[0m\u001b[0;34m=\u001b[0m\u001b[0;34m\"politics\"\u001b[0m\u001b[0;34m)\u001b[0m\u001b[0;34m\u001b[0m\u001b[0;34m\u001b[0m\u001b[0m\n\u001b[0m",
      "\u001b[0;32m~/anaconda3/envs/outpost/lib/python3.7/site-packages/newsapi/newsapi_client.py\u001b[0m in \u001b[0;36mget_top_headlines\u001b[0;34m(self, q, qintitle, sources, language, country, category, page_size, page)\u001b[0m\n\u001b[1;32m    138\u001b[0m                     \u001b[0mpayload\u001b[0m\u001b[0;34m[\u001b[0m\u001b[0;34m\"category\"\u001b[0m\u001b[0;34m]\u001b[0m \u001b[0;34m=\u001b[0m \u001b[0mcategory\u001b[0m\u001b[0;34m\u001b[0m\u001b[0;34m\u001b[0m\u001b[0m\n\u001b[1;32m    139\u001b[0m                 \u001b[0;32melse\u001b[0m\u001b[0;34m:\u001b[0m\u001b[0;34m\u001b[0m\u001b[0;34m\u001b[0m\u001b[0m\n\u001b[0;32m--> 140\u001b[0;31m                     \u001b[0;32mraise\u001b[0m \u001b[0mValueError\u001b[0m\u001b[0;34m(\u001b[0m\u001b[0;34m\"invalid category\"\u001b[0m\u001b[0;34m)\u001b[0m\u001b[0;34m\u001b[0m\u001b[0;34m\u001b[0m\u001b[0m\n\u001b[0m\u001b[1;32m    141\u001b[0m             \u001b[0;32melse\u001b[0m\u001b[0;34m:\u001b[0m\u001b[0;34m\u001b[0m\u001b[0;34m\u001b[0m\u001b[0m\n\u001b[1;32m    142\u001b[0m                 \u001b[0;32mraise\u001b[0m \u001b[0mTypeError\u001b[0m\u001b[0;34m(\u001b[0m\u001b[0;34m\"category param should be of type str\"\u001b[0m\u001b[0;34m)\u001b[0m\u001b[0;34m\u001b[0m\u001b[0;34m\u001b[0m\u001b[0m\n",
      "\u001b[0;31mValueError\u001b[0m: invalid category"
     ]
    }
   ],
   "source": [
    "results = api.get_top_headlines(category=\"politics\")"
   ]
  },
  {
   "cell_type": "code",
   "execution_count": 16,
   "metadata": {},
   "outputs": [
    {
     "name": "stdout",
     "output_type": "stream",
     "text": [
      "19 Books By Northeast Indian Authors That You Need To Add To Your Reading List ASAP\n",
      "19 Traditions With Long-Distance Friends That Will Help Keep You Sane\n",
      "Nunavut woman calls 911 from Ottawa hospital after being denied water, she says | CBC News\n",
      "HBO Max is finally coming to Amazon Fire TV\n",
      "A Silk Road Renaissance\n",
      "Lin-Manuel Miranda Recaps His Dark Materials Season 1 - IGN\n",
      "Hollywood stars Ryan Reynolds and Rob McElhenney have Wrexham takeover approved with hilarious video\n",
      "Oklahoma's Mauree Turner will be the first nonbinary state legislator in the U.S.\n",
      "Family of Quawan \"Bobby\" Charles says police didn't take his disappearance seriously\n",
      "In growing crisis, Peru seeks a third president in a week\n"
     ]
    }
   ],
   "source": [
    "for i in range(10):\n",
    "    print(results['articles'][i]['title'])"
   ]
  },
  {
   "cell_type": "code",
   "execution_count": 26,
   "metadata": {},
   "outputs": [
    {
     "data": {
      "text/plain": [
       "{'source': {'id': 'cbs-news', 'name': 'CBS News'},\n",
       " 'author': 'CBS News',\n",
       " 'title': 'Worldview: Asia-Pacific trading bloc, Peru unrest, and more global headlines',\n",
       " 'description': \"15 Asia-Pacific countries have joined the world's largest trade bloc, excluding the U.S. Peru's interim president steps down, leaving the office vacant. The leaders of Mexico, Russia and Brazil have not yet acknowledged Joe Biden's election victory. CBS News …\",\n",
       " 'url': 'https://www.cbsnews.com/video/worldview-rcep-trading-bloc-peru-unrest-biden-congrats-holdouts-uk-pm-self-isolation/',\n",
       " 'urlToImage': 'https://cbsnews3.cbsistatic.com/hub/i/r/2020/11/16/affac48a-0374-4491-b847-acd9c5940426/thumbnail/1200x630/eea8b91cddaff10629a93ca3241d8bed/cbsn-fusion-worldview-rcep-trading-bloc-peru-unrest-biden-congrats-holdouts-uk-pm-self-isolation-thumbnail-588810-640x360.jpg',\n",
       " 'publishedAt': '2020-11-16T14:26:00+00:00',\n",
       " 'content': 'Watch CBSN Live\\r\\nCopyright © 2020 CBS Interactive Inc. All rights reserved.'}"
      ]
     },
     "execution_count": 26,
     "metadata": {},
     "output_type": "execute_result"
    }
   ],
   "source": [
    "results['articles'][10]"
   ]
  },
  {
   "cell_type": "code",
   "execution_count": null,
   "metadata": {},
   "outputs": [],
   "source": [
    "# create list of all of the sources you want to pull from on the left and right\n",
    "# return trending topics and pull articles "
   ]
  }
 ],
 "metadata": {
  "kernelspec": {
   "display_name": "Python 3",
   "language": "python",
   "name": "python3"
  },
  "language_info": {
   "codemirror_mode": {
    "name": "ipython",
    "version": 3
   },
   "file_extension": ".py",
   "mimetype": "text/x-python",
   "name": "python",
   "nbconvert_exporter": "python",
   "pygments_lexer": "ipython3",
   "version": "3.7.7"
  }
 },
 "nbformat": 4,
 "nbformat_minor": 4
}
