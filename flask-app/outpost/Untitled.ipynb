{
 "cells": [
  {
   "cell_type": "code",
   "execution_count": 1,
   "metadata": {},
   "outputs": [],
   "source": [
    "from scraping import return_single_article"
   ]
  },
  {
   "cell_type": "code",
   "execution_count": 2,
   "metadata": {},
   "outputs": [],
   "source": [
    "output = return_single_article('https://hotair.com/archives/jazz-shaw/2020/10/20/libs-make-last-desperate-efforts-shoot-hunter-biden-email-story/')"
   ]
  },
  {
   "cell_type": "code",
   "execution_count": 3,
   "metadata": {},
   "outputs": [
    {
     "name": "stdout",
     "output_type": "stream",
     "text": [
      "With only two weeks to go before the election, the reality of what’s going on behind the scenes in terms of the Hunter Biden email scandal has become too obvious to ignore. The liberal media can’t afford to have a story that’s potentially damaging to Joe Biden’s candidacy making the rounds so a full-blown blackout is being attempted. But since the question has finally been asked by a reporter from the alphabet networks, Biden’s most strident media accomplices are trying desperately to cloud the issue like a cat flinging sand over its latest business in the litterbox.\n",
      "\n",
      "One of the latest examples of this trend comes to us from Mediaite, where Colby Hall throws out the claim that Fox News initially passed on the Hunter Biden email story over “credibility concerns.”\n",
      "\n",
      "Mediaite has learned that Fox News was first approached by Rudy Giuliani to report on a tranche of files alleged to have come from Hunter Biden’s unclaimed laptop left at a Delaware computer repair shop, but that the news division chose not to run the story unless or until the sourcing and veracity of the emails could be properly vetted.\n",
      "\n",
      "That makes for a great headline if you’re trying to throw cold water all over the story, but given the full context of what’s been revealed since then, it’s a non-news item. Of course Fox News didn’t run with the story as soon as Giuliani served it up. Something that inflammatory showing up a few weeks before the election couldn’t simply be dumped out to the public without checking into it. But people did check and have since found two people copied on some of the emails who verified their authenticity. Then they reported on it with that supporting testimony to back it up.\n",
      "\n",
      "In another example, we have the Daily Beast pointing out that the FBI is still investigating the Russia angle, “contradicting Trump’s intel Czar.”\n",
      "\n",
      "The FBI is investigating the purloined laptop materials from Joe Biden’s son as part of a possible foreign disinformation operation, a congressional source told The Daily Beast—an investigation at odds with a statement from President Trump’s director of national intelligence.\n",
      "\n",
      "Once again we see another great headline and lede paragraph for the Biden campaign. They’re clearly trying to cast doubt on the authenticity of the emails, hinting at Russian election meddling and making it look like something the Trump administration cooked up. But just as with the Mediaite story, you don’t have to read much further to discover the truth.\n",
      "\n",
      "Obviously the FBI is investigating it. The allegation was made and they had to look into it. But if they’d found anything tying the laptop to the Russians we’d probably have heard about it by now. I’ll even concede that it’s still possible that some bad actors, be they foreign or domestic, could theoretically have been involved in making the contents of Hunter Biden’s hard drive available as some sort of oppo project. But at the end of the day, the only real question is whether or not the emails are real and if they were composed by Hunter Biden. Neither Hunter nor his father’s campaign has once tried to deny the authenticity of the emails. And the previously mentioned confirmation offered by other recipients of the messages pretty much seals the deal.\n",
      "\n",
      "Does that mean all of the blackouts and aspersions being cast at this story are going to go away? Of course not. The game plan is fully in place and the mainstream media can’t afford to back down now. Everyone has to lash themselves to the mast and ride out this storm until they drag Sleepy Joe Biden’s carcass across the finish line. Unfortunately, there’s not much that the rest of us can do about it since Biden’s supporters control such a massive share of the news media market.\n"
     ]
    }
   ],
   "source": [
    "print(output['article'])"
   ]
  },
  {
   "cell_type": "code",
   "execution_count": 9,
   "metadata": {},
   "outputs": [],
   "source": [
    "from hf_summarizer import chunk_summarize_t5, pegasus_summarization"
   ]
  },
  {
   "cell_type": "code",
   "execution_count": 16,
   "metadata": {},
   "outputs": [],
   "source": [
    "from common import plagiarism_checker"
   ]
  },
  {
   "cell_type": "code",
   "execution_count": 16,
   "metadata": {
    "collapsed": true,
    "jupyter": {
     "outputs_hidden": true
    }
   },
   "outputs": [
    {
     "data": {
      "application/vnd.jupyter.widget-view+json": {
       "model_id": "cde7891d4e8a459f895a03ba6cdb2357",
       "version_major": 2,
       "version_minor": 0
      },
      "text/plain": [
       "HBox(children=(FloatProgress(value=0.0, description='Downloading', max=1120.0, style=ProgressStyle(description…"
      ]
     },
     "metadata": {},
     "output_type": "display_data"
    },
    {
     "name": "stdout",
     "output_type": "stream",
     "text": [
      "\n"
     ]
    },
    {
     "ename": "TypeError",
     "evalue": "plagiarism_checker() got an unexpected keyword argument 'old_text'",
     "output_type": "error",
     "traceback": [
      "\u001b[0;31m---------------------------------------------------------------------------\u001b[0m",
      "\u001b[0;31mTypeError\u001b[0m                                 Traceback (most recent call last)",
      "\u001b[0;32m<ipython-input-16-19a3df7f087c>\u001b[0m in \u001b[0;36m<module>\u001b[0;34m\u001b[0m\n\u001b[1;32m      1\u001b[0m \u001b[0mcnnd_summary\u001b[0m \u001b[0;34m=\u001b[0m \u001b[0mpegasus_summarization\u001b[0m\u001b[0;34m(\u001b[0m\u001b[0moutput\u001b[0m\u001b[0;34m[\u001b[0m\u001b[0;34m'article'\u001b[0m\u001b[0;34m]\u001b[0m\u001b[0;34m,\u001b[0m \u001b[0;34m'google/pegasus-cnn_dailymail'\u001b[0m\u001b[0;34m)\u001b[0m\u001b[0;34m\u001b[0m\u001b[0;34m\u001b[0m\u001b[0m\n\u001b[0;32m----> 2\u001b[0;31m \u001b[0mcnnDaily_out\u001b[0m \u001b[0;34m=\u001b[0m \u001b[0mplagiarism_checker\u001b[0m\u001b[0;34m(\u001b[0m\u001b[0mnew_text\u001b[0m\u001b[0;34m=\u001b[0m\u001b[0mcnnd_summary\u001b[0m\u001b[0;34m,\u001b[0m \u001b[0mold_text\u001b[0m\u001b[0;34m=\u001b[0m\u001b[0moutput\u001b[0m\u001b[0;34m[\u001b[0m\u001b[0;34m'article'\u001b[0m\u001b[0;34m]\u001b[0m\u001b[0;34m)\u001b[0m\u001b[0;34m\u001b[0m\u001b[0;34m\u001b[0m\u001b[0m\n\u001b[0m",
      "\u001b[0;31mTypeError\u001b[0m: plagiarism_checker() got an unexpected keyword argument 'old_text'"
     ]
    }
   ],
   "source": [
    "cnnd_summary = pegasus_summarization(output['article'], 'google/pegasus-cnn_dailymail')\n"
   ]
  },
  {
   "cell_type": "code",
   "execution_count": 17,
   "metadata": {},
   "outputs": [],
   "source": [
    "cnnDaily_out = plagiarism_checker(new_text=cnnd_summary, orig_text=output['article'])"
   ]
  },
  {
   "cell_type": "code",
   "execution_count": 18,
   "metadata": {},
   "outputs": [
    {
     "name": "stdout",
     "output_type": "stream",
     "text": [
      "Percent Plagiarism: 100.0%<br><span style=\"color:red;\">trump's bout with coronavirus -- including a hospital trip and a refusal to participate in a virtual debate -- cost the president one of his last opportunities to change the trajectory of the 2020 race.<n>instead, there were dueling nationally televised town halls, in which trump's bombast drew a slightly smaller audience than biden's more measured performance.</span>\n"
     ]
    }
   ],
   "source": [
    "print(cnnDaily_out)"
   ]
  },
  {
   "cell_type": "code",
   "execution_count": 23,
   "metadata": {},
   "outputs": [
    {
     "data": {
      "application/vnd.jupyter.widget-view+json": {
       "model_id": "7d00c2b03e474f5eb8f9e1c369f87236",
       "version_major": 2,
       "version_minor": 0
      },
      "text/plain": [
       "HBox(children=(FloatProgress(value=0.0, description='Downloading', max=1244.0, style=ProgressStyle(description…"
      ]
     },
     "metadata": {},
     "output_type": "display_data"
    },
    {
     "name": "stdout",
     "output_type": "stream",
     "text": [
      "\n"
     ]
    },
    {
     "data": {
      "application/vnd.jupyter.widget-view+json": {
       "model_id": "faf6125cadd64d58874959042f83f1a1",
       "version_major": 2,
       "version_minor": 0
      },
      "text/plain": [
       "HBox(children=(FloatProgress(value=0.0, description='Downloading', max=1565504151.0, style=ProgressStyle(descr…"
      ]
     },
     "metadata": {},
     "output_type": "display_data"
    },
    {
     "name": "stdout",
     "output_type": "stream",
     "text": [
      "\n"
     ]
    },
    {
     "data": {
      "application/vnd.jupyter.widget-view+json": {
       "model_id": "80a407319877428191ceceb28271cb1d",
       "version_major": 2,
       "version_minor": 0
      },
      "text/plain": [
       "HBox(children=(FloatProgress(value=0.0, description='Downloading', max=231506.0, style=ProgressStyle(descripti…"
      ]
     },
     "metadata": {},
     "output_type": "display_data"
    },
    {
     "name": "stdout",
     "output_type": "stream",
     "text": [
      "\n"
     ]
    },
    {
     "data": {
      "application/vnd.jupyter.widget-view+json": {
       "model_id": "2488531fe292442989e2ccf98bff37f3",
       "version_major": 2,
       "version_minor": 0
      },
      "text/plain": [
       "HBox(children=(FloatProgress(value=0.0, description='Downloading', max=112.0, style=ProgressStyle(description_…"
      ]
     },
     "metadata": {},
     "output_type": "display_data"
    },
    {
     "name": "stdout",
     "output_type": "stream",
     "text": [
      "\n"
     ]
    },
    {
     "data": {
      "application/vnd.jupyter.widget-view+json": {
       "model_id": "2c8d4050156e44a2a094c2f2843e6fb8",
       "version_major": 2,
       "version_minor": 0
      },
      "text/plain": [
       "HBox(children=(FloatProgress(value=0.0, description='Downloading', max=256.0, style=ProgressStyle(description_…"
      ]
     },
     "metadata": {},
     "output_type": "display_data"
    },
    {
     "name": "stdout",
     "output_type": "stream",
     "text": [
      "\n"
     ]
    }
   ],
   "source": [
    "from transformers import ProphetNetTokenizer, ProphetNetForConditionalGeneration, ProphetNetConfig\n",
    "\n",
    "model = ProphetNetForConditionalGeneration.from_pretrained('microsoft/prophetnet-large-uncased-cnndm')\n",
    "tokenizer = ProphetNetTokenizer.from_pretrained('microsoft/prophetnet-large-uncased-cnndm')\n"
   ]
  },
  {
   "cell_type": "code",
   "execution_count": 4,
   "metadata": {},
   "outputs": [],
   "source": [
    "from transformers import AutoTokenizer, AutoModelForSeq2SeqLM"
   ]
  },
  {
   "cell_type": "code",
   "execution_count": 5,
   "metadata": {},
   "outputs": [],
   "source": [
    "tokenizer = AutoTokenizer.from_pretrained(\"sshleifer/distilbart-cnn-12-6\")"
   ]
  },
  {
   "cell_type": "code",
   "execution_count": 6,
   "metadata": {},
   "outputs": [],
   "source": [
    "model = AutoModelForSeq2SeqLM.from_pretrained(\"sshleifer/distilbart-cnn-12-6\")"
   ]
  },
  {
   "cell_type": "code",
   "execution_count": 7,
   "metadata": {},
   "outputs": [],
   "source": [
    "guy = output['article']"
   ]
  },
  {
   "cell_type": "code",
   "execution_count": 8,
   "metadata": {},
   "outputs": [],
   "source": [
    "inputs = tokenizer([guy])"
   ]
  },
  {
   "cell_type": "code",
   "execution_count": 12,
   "metadata": {},
   "outputs": [
    {
     "data": {
      "text/plain": [
       "819"
      ]
     },
     "execution_count": 12,
     "metadata": {},
     "output_type": "execute_result"
    }
   ],
   "source": [
    "len(inputs['input_ids'][0])"
   ]
  },
  {
   "cell_type": "code",
   "execution_count": 19,
   "metadata": {},
   "outputs": [],
   "source": [
    "# Generate Summary\n",
    "summary_ids = model.generate(inputs['input_ids'])\n",
    "bart_sum = tokenizer.batch_decode(summary_ids, skip_special_tokens=True)"
   ]
  },
  {
   "cell_type": "code",
   "execution_count": 20,
   "metadata": {},
   "outputs": [
    {
     "data": {
      "text/plain": [
       "[\" Liberal media can't afford to have a story potentially damaging to Joe Biden's candidacy making the rounds. Mediaite claims Fox News initially passed on the Hunter Biden email story over “credibility concerns” But given the full context of what’s been revealed since then, it’�s a non-news item.\"]"
      ]
     },
     "execution_count": 20,
     "metadata": {},
     "output_type": "execute_result"
    }
   ],
   "source": [
    "bart_sum"
   ]
  },
  {
   "cell_type": "code",
   "execution_count": 17,
   "metadata": {},
   "outputs": [],
   "source": [
    "bart_sum = plagiarism_checker(new_text=bart_sum[0], orig_text=output['article'])"
   ]
  },
  {
   "cell_type": "code",
   "execution_count": 18,
   "metadata": {},
   "outputs": [
    {
     "data": {
      "text/plain": [
       "'Percent Plagiarism: 91.22807017543859%<br> liberal media can\\'t <span style=\"color:red;\">afford to have a story potentially damaging to joe biden’s candidacy making the rounds so a full-blown blackout is being attempted. but since the question has finally been asked by a reporter,</span> biden\\'s <span style=\"color:red;\">most strident media accomplices are trying desperately to cloud the issue like a cat flinging sand over its latest business.</span>'"
      ]
     },
     "execution_count": 18,
     "metadata": {},
     "output_type": "execute_result"
    }
   ],
   "source": [
    "bart_sum"
   ]
  },
  {
   "cell_type": "code",
   "execution_count": 25,
   "metadata": {},
   "outputs": [],
   "source": [
    "from common import sentence_tokenizer"
   ]
  },
  {
   "cell_type": "code",
   "execution_count": 27,
   "metadata": {},
   "outputs": [],
   "source": [
    "sentences = sentence_tokenizer(guy)"
   ]
  },
  {
   "cell_type": "code",
   "execution_count": 37,
   "metadata": {},
   "outputs": [],
   "source": [
    "from hf_summarizer import bart_summarize"
   ]
  },
  {
   "cell_type": "code",
   "execution_count": 40,
   "metadata": {},
   "outputs": [
    {
     "data": {
      "text/plain": [
       "12"
      ]
     },
     "execution_count": 40,
     "metadata": {},
     "output_type": "execute_result"
    }
   ],
   "source": [
    "len(sentences[:int(len(sentences)/2)])"
   ]
  },
  {
   "cell_type": "code",
   "execution_count": 34,
   "metadata": {},
   "outputs": [],
   "source": [
    "part1 = ' '.join(sentences[:int(len(sentences)/2)])\n",
    "part2 = ' '.join(sentences[int(len(sentences)/2):])"
   ]
  },
  {
   "cell_type": "code",
   "execution_count": 39,
   "metadata": {},
   "outputs": [
    {
     "data": {
      "text/plain": [
       "'hotair:\\nLibs make their last, desperate efforts to shoot down Hunter Biden email story\\nBy Jazz Shaw, Ed Morrissey, and John Sexton\\nWith only two weeks to go before the election, the reality of what’s going on behind the scenes in terms of the Hunter Biden email scandal has become too obvious to ignore. The liberal media can’t afford to have a story that’s potentially damaging to Joe Biden’s candidacy making the rounds so a fullblown blackout is being attempted. But since the question has finally been asked by a reporter from the alphabet networks, Biden’s most strident media accomplices are trying desperately to cloud the issue like a cat flinging sand over its latest business in the litterbox. One of the latest examples of this trend comes to us from Mediaite, where Colby Hall throws out the claim that Fox News initially passed on the Hunter Biden email story over “credibility concerns.”\\n\\nMediaite has learned that Fox News was first approached by Rudy Giuliani to report on a tranche of files alleged to have come from Hunter Biden’s unclaimed laptop left at a Delaware computer repair shop, but that the news division chose not to run the story unless or until the sourcing and veracity of the emails could be properly vetted. That makes for a great headline if you’re trying to throw cold water all over the story, but given the full context of what’s been revealed since then, it’s a nonnews item. Of course Fox News didn’t run with the story as soon as Giuliani served it up. Something that inflammatory showing up a few weeks before the election couldn’t simply be dumped out to the public without checking into it. But people did check and have since found two people copied on some of the emails who verified their authenticity. Then they reported on it with that supporting testimony to back it up. In another example, we have the Daily Beast pointing out that the FBI is still investigating the Russia angle, “contradicting Trump’s intel Czar.”\\n\\nThe FBI is investigating the purloined laptop materials from Joe Biden’s son as part of a possible foreign disinformation operation, a congressional source told The Daily Beast—an investigation at odds with a statement from President Trump’s director of national intelligence. Once again we see another great headline and lede paragraph for the Biden campaign. They’re clearly trying to cast doubt on the authenticity of the emails, hinting at Russian election meddling and making it look like something the Trump administration cooked up.'"
      ]
     },
     "execution_count": 39,
     "metadata": {},
     "output_type": "execute_result"
    }
   ],
   "source": [
    "part1"
   ]
  },
  {
   "cell_type": "code",
   "execution_count": 35,
   "metadata": {},
   "outputs": [
    {
     "data": {
      "text/plain": [
       "' Liberal media can’t afford to have a story potentially damaging to Joe Biden’s candidacy making the rounds so a fullblown blackout is being attempted. One of the latest examples of this trend comes to us from Mediaite, where Colby Hall throws out the claim that Fox News initially passed on the Hunter Biden email story over “credibility concerns”'"
      ]
     },
     "execution_count": 35,
     "metadata": {},
     "output_type": "execute_result"
    }
   ],
   "source": [
    "bart_summarize(part1)"
   ]
  },
  {
   "cell_type": "code",
   "execution_count": 38,
   "metadata": {},
   "outputs": [
    {
     "data": {
      "text/plain": [
       "\" The FBI is investigating but if they'd found anything tying the laptop to the Russians we’d probably have heard about it by now. Neither Hunter nor his father’s campaign has once tried to deny the authenticity of the emails. The game plan is fully in place and the mainstream media can’t afford to back down now.\""
      ]
     },
     "execution_count": 38,
     "metadata": {},
     "output_type": "execute_result"
    }
   ],
   "source": [
    "bart_summarize(part2)"
   ]
  },
  {
   "cell_type": "code",
   "execution_count": null,
   "metadata": {},
   "outputs": [],
   "source": []
  }
 ],
 "metadata": {
  "kernelspec": {
   "display_name": "Python 3",
   "language": "python",
   "name": "python3"
  },
  "language_info": {
   "codemirror_mode": {
    "name": "ipython",
    "version": 3
   },
   "file_extension": ".py",
   "mimetype": "text/x-python",
   "name": "python",
   "nbconvert_exporter": "python",
   "pygments_lexer": "ipython3",
   "version": "3.7.7"
  }
 },
 "nbformat": 4,
 "nbformat_minor": 4
}
